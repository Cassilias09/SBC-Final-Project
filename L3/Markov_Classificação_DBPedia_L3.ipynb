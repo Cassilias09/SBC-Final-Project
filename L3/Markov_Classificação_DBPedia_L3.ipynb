{
  "nbformat": 4,
  "nbformat_minor": 0,
  "metadata": {
    "colab": {
      "provenance": []
    },
    "kernelspec": {
      "name": "python3",
      "display_name": "Python 3"
    },
    "language_info": {
      "name": "python"
    }
  },
  "cells": [
    {
      "cell_type": "markdown",
      "metadata": {
        "id": "GeC9qVN9-qL8"
      },
      "source": [
        "## Load the Data\n",
        "\n",
        "We will first download the DBPedia data and load into a Pandas dataframe.\n",
        "We drop the `l2` and `l3` columns because we are only interested on `l1` column, to use the first level label (that contains 9 classes).\n"
      ]
    },
    {
      "cell_type": "code",
      "execution_count": 1,
      "metadata": {
        "id": "YRhGy6He-qL9",
        "colab": {
          "base_uri": "https://localhost:8080/"
        },
        "outputId": "95dd797b-1273-4286-e3dd-250d5bc2b659"
      },
      "outputs": [
        {
          "output_type": "stream",
          "name": "stdout",
          "text": [
            "  % Total    % Received % Xferd  Average Speed   Time    Time     Time  Current\n",
            "                                 Dload  Upload   Total   Spent    Left  Speed\n",
            "  0     0    0     0    0     0      0      0 --:--:-- --:--:-- --:--:--     0\n",
            "100  165M  100  165M    0     0  69.6M      0  0:00:02  0:00:02 --:--:-- 96.6M\n"
          ]
        }
      ],
      "source": [
        "!curl -L -o dbpedia-classes.zip https://www.kaggle.com/api/v1/datasets/download/danofer/dbpedia-classes"
      ]
    },
    {
      "cell_type": "code",
      "source": [
        "!unzip dbpedia-classes.zip"
      ],
      "metadata": {
        "colab": {
          "base_uri": "https://localhost:8080/"
        },
        "id": "hD6W-LKt_b4z",
        "outputId": "500064e5-2b75-4899-9723-c3b1c38a2bc0"
      },
      "execution_count": 2,
      "outputs": [
        {
          "output_type": "stream",
          "name": "stdout",
          "text": [
            "Archive:  dbpedia-classes.zip\n",
            "  inflating: DBPEDIA_test.csv        \n",
            "  inflating: DBPEDIA_train.csv       \n",
            "  inflating: DBPEDIA_val.csv         \n",
            "  inflating: DBP_wiki_data.csv       \n"
          ]
        }
      ]
    },
    {
      "cell_type": "code",
      "source": [
        "import pandas as pd"
      ],
      "metadata": {
        "id": "8D26lyhl8Xfn"
      },
      "execution_count": 3,
      "outputs": []
    },
    {
      "cell_type": "code",
      "source": [
        "train_df = pd.read_csv(\"/content/DBPEDIA_train.csv\")\n",
        "test_df = pd.read_csv(\"/content/DBPEDIA_test.csv\")"
      ],
      "metadata": {
        "id": "BLs0E6GG_93G"
      },
      "execution_count": 4,
      "outputs": []
    },
    {
      "cell_type": "code",
      "source": [
        "train_df.drop(columns=[\"l1\", \"l2\"])\n",
        "test_df.drop(columns=[\"l1\", \"l2\"])"
      ],
      "metadata": {
        "colab": {
          "base_uri": "https://localhost:8080/",
          "height": 423
        },
        "id": "Aqy6bdUcAOyg",
        "outputId": "fd572a39-96f4-457f-c4b9-80c1f3a9f0ae"
      },
      "execution_count": 5,
      "outputs": [
        {
          "output_type": "execute_result",
          "data": {
            "text/plain": [
              "                                                    text  \\\n",
              "0      Liu Chao-shiuan (Chinese: 劉兆玄; pinyin: Liú Zhà...   \n",
              "1      Michelle Maylene (born January 20, 1987) is an...   \n",
              "2      Hirfanlı Dam is a dam in Turkey. The developme...   \n",
              "3      Grote Prijs Stad Zottegem is a single-day road...   \n",
              "4      Johannes Petrus \\\"Hans\\\" Nijman (September 23,...   \n",
              "...                                                  ...   \n",
              "60789  Darwin Smith was CEO of Kimberly-Clark from 19...   \n",
              "60790  The HKRU Premiership is the main domestic comp...   \n",
              "60791  Leo Harvey Diegel (April 20, 1899 – May 5, 195...   \n",
              "60792  Clement Reginald \\\"Clem\\\" Splatt (17 September...   \n",
              "60793  Gyllebo Castle (Swedish: Gyllebo slott) is a c...   \n",
              "\n",
              "                                  l3  \n",
              "0                      PrimeMinister  \n",
              "1                         AdultActor  \n",
              "2                                Dam  \n",
              "3                        CyclingRace  \n",
              "4                      MartialArtist  \n",
              "...                              ...  \n",
              "60789                 BusinessPerson  \n",
              "60790                   SoccerLeague  \n",
              "60791                     GolfPlayer  \n",
              "60792  AustralianRulesFootballPlayer  \n",
              "60793                         Castle  \n",
              "\n",
              "[60794 rows x 2 columns]"
            ],
            "text/html": [
              "\n",
              "  <div id=\"df-9f1f9db5-8b7d-4280-840c-f504028924f1\" class=\"colab-df-container\">\n",
              "    <div>\n",
              "<style scoped>\n",
              "    .dataframe tbody tr th:only-of-type {\n",
              "        vertical-align: middle;\n",
              "    }\n",
              "\n",
              "    .dataframe tbody tr th {\n",
              "        vertical-align: top;\n",
              "    }\n",
              "\n",
              "    .dataframe thead th {\n",
              "        text-align: right;\n",
              "    }\n",
              "</style>\n",
              "<table border=\"1\" class=\"dataframe\">\n",
              "  <thead>\n",
              "    <tr style=\"text-align: right;\">\n",
              "      <th></th>\n",
              "      <th>text</th>\n",
              "      <th>l3</th>\n",
              "    </tr>\n",
              "  </thead>\n",
              "  <tbody>\n",
              "    <tr>\n",
              "      <th>0</th>\n",
              "      <td>Liu Chao-shiuan (Chinese: 劉兆玄; pinyin: Liú Zhà...</td>\n",
              "      <td>PrimeMinister</td>\n",
              "    </tr>\n",
              "    <tr>\n",
              "      <th>1</th>\n",
              "      <td>Michelle Maylene (born January 20, 1987) is an...</td>\n",
              "      <td>AdultActor</td>\n",
              "    </tr>\n",
              "    <tr>\n",
              "      <th>2</th>\n",
              "      <td>Hirfanlı Dam is a dam in Turkey. The developme...</td>\n",
              "      <td>Dam</td>\n",
              "    </tr>\n",
              "    <tr>\n",
              "      <th>3</th>\n",
              "      <td>Grote Prijs Stad Zottegem is a single-day road...</td>\n",
              "      <td>CyclingRace</td>\n",
              "    </tr>\n",
              "    <tr>\n",
              "      <th>4</th>\n",
              "      <td>Johannes Petrus \\\"Hans\\\" Nijman (September 23,...</td>\n",
              "      <td>MartialArtist</td>\n",
              "    </tr>\n",
              "    <tr>\n",
              "      <th>...</th>\n",
              "      <td>...</td>\n",
              "      <td>...</td>\n",
              "    </tr>\n",
              "    <tr>\n",
              "      <th>60789</th>\n",
              "      <td>Darwin Smith was CEO of Kimberly-Clark from 19...</td>\n",
              "      <td>BusinessPerson</td>\n",
              "    </tr>\n",
              "    <tr>\n",
              "      <th>60790</th>\n",
              "      <td>The HKRU Premiership is the main domestic comp...</td>\n",
              "      <td>SoccerLeague</td>\n",
              "    </tr>\n",
              "    <tr>\n",
              "      <th>60791</th>\n",
              "      <td>Leo Harvey Diegel (April 20, 1899 – May 5, 195...</td>\n",
              "      <td>GolfPlayer</td>\n",
              "    </tr>\n",
              "    <tr>\n",
              "      <th>60792</th>\n",
              "      <td>Clement Reginald \\\"Clem\\\" Splatt (17 September...</td>\n",
              "      <td>AustralianRulesFootballPlayer</td>\n",
              "    </tr>\n",
              "    <tr>\n",
              "      <th>60793</th>\n",
              "      <td>Gyllebo Castle (Swedish: Gyllebo slott) is a c...</td>\n",
              "      <td>Castle</td>\n",
              "    </tr>\n",
              "  </tbody>\n",
              "</table>\n",
              "<p>60794 rows × 2 columns</p>\n",
              "</div>\n",
              "    <div class=\"colab-df-buttons\">\n",
              "\n",
              "  <div class=\"colab-df-container\">\n",
              "    <button class=\"colab-df-convert\" onclick=\"convertToInteractive('df-9f1f9db5-8b7d-4280-840c-f504028924f1')\"\n",
              "            title=\"Convert this dataframe to an interactive table.\"\n",
              "            style=\"display:none;\">\n",
              "\n",
              "  <svg xmlns=\"http://www.w3.org/2000/svg\" height=\"24px\" viewBox=\"0 -960 960 960\">\n",
              "    <path d=\"M120-120v-720h720v720H120Zm60-500h600v-160H180v160Zm220 220h160v-160H400v160Zm0 220h160v-160H400v160ZM180-400h160v-160H180v160Zm440 0h160v-160H620v160ZM180-180h160v-160H180v160Zm440 0h160v-160H620v160Z\"/>\n",
              "  </svg>\n",
              "    </button>\n",
              "\n",
              "  <style>\n",
              "    .colab-df-container {\n",
              "      display:flex;\n",
              "      gap: 12px;\n",
              "    }\n",
              "\n",
              "    .colab-df-convert {\n",
              "      background-color: #E8F0FE;\n",
              "      border: none;\n",
              "      border-radius: 50%;\n",
              "      cursor: pointer;\n",
              "      display: none;\n",
              "      fill: #1967D2;\n",
              "      height: 32px;\n",
              "      padding: 0 0 0 0;\n",
              "      width: 32px;\n",
              "    }\n",
              "\n",
              "    .colab-df-convert:hover {\n",
              "      background-color: #E2EBFA;\n",
              "      box-shadow: 0px 1px 2px rgba(60, 64, 67, 0.3), 0px 1px 3px 1px rgba(60, 64, 67, 0.15);\n",
              "      fill: #174EA6;\n",
              "    }\n",
              "\n",
              "    .colab-df-buttons div {\n",
              "      margin-bottom: 4px;\n",
              "    }\n",
              "\n",
              "    [theme=dark] .colab-df-convert {\n",
              "      background-color: #3B4455;\n",
              "      fill: #D2E3FC;\n",
              "    }\n",
              "\n",
              "    [theme=dark] .colab-df-convert:hover {\n",
              "      background-color: #434B5C;\n",
              "      box-shadow: 0px 1px 3px 1px rgba(0, 0, 0, 0.15);\n",
              "      filter: drop-shadow(0px 1px 2px rgba(0, 0, 0, 0.3));\n",
              "      fill: #FFFFFF;\n",
              "    }\n",
              "  </style>\n",
              "\n",
              "    <script>\n",
              "      const buttonEl =\n",
              "        document.querySelector('#df-9f1f9db5-8b7d-4280-840c-f504028924f1 button.colab-df-convert');\n",
              "      buttonEl.style.display =\n",
              "        google.colab.kernel.accessAllowed ? 'block' : 'none';\n",
              "\n",
              "      async function convertToInteractive(key) {\n",
              "        const element = document.querySelector('#df-9f1f9db5-8b7d-4280-840c-f504028924f1');\n",
              "        const dataTable =\n",
              "          await google.colab.kernel.invokeFunction('convertToInteractive',\n",
              "                                                    [key], {});\n",
              "        if (!dataTable) return;\n",
              "\n",
              "        const docLinkHtml = 'Like what you see? Visit the ' +\n",
              "          '<a target=\"_blank\" href=https://colab.research.google.com/notebooks/data_table.ipynb>data table notebook</a>'\n",
              "          + ' to learn more about interactive tables.';\n",
              "        element.innerHTML = '';\n",
              "        dataTable['output_type'] = 'display_data';\n",
              "        await google.colab.output.renderOutput(dataTable, element);\n",
              "        const docLink = document.createElement('div');\n",
              "        docLink.innerHTML = docLinkHtml;\n",
              "        element.appendChild(docLink);\n",
              "      }\n",
              "    </script>\n",
              "  </div>\n",
              "\n",
              "\n",
              "<div id=\"df-5aab6c06-b636-4233-bacf-2febb433ac70\">\n",
              "  <button class=\"colab-df-quickchart\" onclick=\"quickchart('df-5aab6c06-b636-4233-bacf-2febb433ac70')\"\n",
              "            title=\"Suggest charts\"\n",
              "            style=\"display:none;\">\n",
              "\n",
              "<svg xmlns=\"http://www.w3.org/2000/svg\" height=\"24px\"viewBox=\"0 0 24 24\"\n",
              "     width=\"24px\">\n",
              "    <g>\n",
              "        <path d=\"M19 3H5c-1.1 0-2 .9-2 2v14c0 1.1.9 2 2 2h14c1.1 0 2-.9 2-2V5c0-1.1-.9-2-2-2zM9 17H7v-7h2v7zm4 0h-2V7h2v10zm4 0h-2v-4h2v4z\"/>\n",
              "    </g>\n",
              "</svg>\n",
              "  </button>\n",
              "\n",
              "<style>\n",
              "  .colab-df-quickchart {\n",
              "      --bg-color: #E8F0FE;\n",
              "      --fill-color: #1967D2;\n",
              "      --hover-bg-color: #E2EBFA;\n",
              "      --hover-fill-color: #174EA6;\n",
              "      --disabled-fill-color: #AAA;\n",
              "      --disabled-bg-color: #DDD;\n",
              "  }\n",
              "\n",
              "  [theme=dark] .colab-df-quickchart {\n",
              "      --bg-color: #3B4455;\n",
              "      --fill-color: #D2E3FC;\n",
              "      --hover-bg-color: #434B5C;\n",
              "      --hover-fill-color: #FFFFFF;\n",
              "      --disabled-bg-color: #3B4455;\n",
              "      --disabled-fill-color: #666;\n",
              "  }\n",
              "\n",
              "  .colab-df-quickchart {\n",
              "    background-color: var(--bg-color);\n",
              "    border: none;\n",
              "    border-radius: 50%;\n",
              "    cursor: pointer;\n",
              "    display: none;\n",
              "    fill: var(--fill-color);\n",
              "    height: 32px;\n",
              "    padding: 0;\n",
              "    width: 32px;\n",
              "  }\n",
              "\n",
              "  .colab-df-quickchart:hover {\n",
              "    background-color: var(--hover-bg-color);\n",
              "    box-shadow: 0 1px 2px rgba(60, 64, 67, 0.3), 0 1px 3px 1px rgba(60, 64, 67, 0.15);\n",
              "    fill: var(--button-hover-fill-color);\n",
              "  }\n",
              "\n",
              "  .colab-df-quickchart-complete:disabled,\n",
              "  .colab-df-quickchart-complete:disabled:hover {\n",
              "    background-color: var(--disabled-bg-color);\n",
              "    fill: var(--disabled-fill-color);\n",
              "    box-shadow: none;\n",
              "  }\n",
              "\n",
              "  .colab-df-spinner {\n",
              "    border: 2px solid var(--fill-color);\n",
              "    border-color: transparent;\n",
              "    border-bottom-color: var(--fill-color);\n",
              "    animation:\n",
              "      spin 1s steps(1) infinite;\n",
              "  }\n",
              "\n",
              "  @keyframes spin {\n",
              "    0% {\n",
              "      border-color: transparent;\n",
              "      border-bottom-color: var(--fill-color);\n",
              "      border-left-color: var(--fill-color);\n",
              "    }\n",
              "    20% {\n",
              "      border-color: transparent;\n",
              "      border-left-color: var(--fill-color);\n",
              "      border-top-color: var(--fill-color);\n",
              "    }\n",
              "    30% {\n",
              "      border-color: transparent;\n",
              "      border-left-color: var(--fill-color);\n",
              "      border-top-color: var(--fill-color);\n",
              "      border-right-color: var(--fill-color);\n",
              "    }\n",
              "    40% {\n",
              "      border-color: transparent;\n",
              "      border-right-color: var(--fill-color);\n",
              "      border-top-color: var(--fill-color);\n",
              "    }\n",
              "    60% {\n",
              "      border-color: transparent;\n",
              "      border-right-color: var(--fill-color);\n",
              "    }\n",
              "    80% {\n",
              "      border-color: transparent;\n",
              "      border-right-color: var(--fill-color);\n",
              "      border-bottom-color: var(--fill-color);\n",
              "    }\n",
              "    90% {\n",
              "      border-color: transparent;\n",
              "      border-bottom-color: var(--fill-color);\n",
              "    }\n",
              "  }\n",
              "</style>\n",
              "\n",
              "  <script>\n",
              "    async function quickchart(key) {\n",
              "      const quickchartButtonEl =\n",
              "        document.querySelector('#' + key + ' button');\n",
              "      quickchartButtonEl.disabled = true;  // To prevent multiple clicks.\n",
              "      quickchartButtonEl.classList.add('colab-df-spinner');\n",
              "      try {\n",
              "        const charts = await google.colab.kernel.invokeFunction(\n",
              "            'suggestCharts', [key], {});\n",
              "      } catch (error) {\n",
              "        console.error('Error during call to suggestCharts:', error);\n",
              "      }\n",
              "      quickchartButtonEl.classList.remove('colab-df-spinner');\n",
              "      quickchartButtonEl.classList.add('colab-df-quickchart-complete');\n",
              "    }\n",
              "    (() => {\n",
              "      let quickchartButtonEl =\n",
              "        document.querySelector('#df-5aab6c06-b636-4233-bacf-2febb433ac70 button');\n",
              "      quickchartButtonEl.style.display =\n",
              "        google.colab.kernel.accessAllowed ? 'block' : 'none';\n",
              "    })();\n",
              "  </script>\n",
              "</div>\n",
              "\n",
              "    </div>\n",
              "  </div>\n"
            ],
            "application/vnd.google.colaboratory.intrinsic+json": {
              "type": "dataframe",
              "summary": "{\n  \"name\": \"test_df\",\n  \"rows\": 60794,\n  \"fields\": [\n    {\n      \"column\": \"text\",\n      \"properties\": {\n        \"dtype\": \"string\",\n        \"num_unique_values\": 60794,\n        \"samples\": [\n          \"Screen Singapore was held in August 2005, on the occasion of the 40th anniversary of the independence of Singapore, to celebrate the heritage of Singaporean cinema from pre-independence days to the present. Presenting a total of 31 feature films (17 vintage ones, from 1955 to 1978, and 14 contemporary ones from 1995 to 2005), plus 15 short films (from 1996 to 2004) over an entire month, it was and has remained the largest showcase of Singaporean cinema.\",\n          \"Gediz \\u00dcniversitesi Gen\\u00e7lik ve Spor Kul\\u00fcb\\u00fc, known as Orkide Gediz \\u00dcniversitesi for sponsorship reasons, is a Turkish professional basketball club based in \\u0130zmir which plays Turkish Basketball League (TBL). The team was founded by Gediz University in 2010. Their home arena is Gediz \\u00dcniversitesi Sports Hall with a capacity of 250 seats. The team sponsored by Orkide which is an liquid oil company in Turkey.\",\n          \"Cumberland Head Light is a lighthouse on Lake Champlain's Cumberland Bay in New York state. The lighthouse was established in 1838 and the tower was first lit in 1868. The lighthouse was deactivated in 1934. The foundation of the lighthouse is concrete and limestone and the lighthouse itself is made out of limestone. The shape of the tower is conical. The original lens was a fourth order Fresnel lens installed in 1856.\"\n        ],\n        \"semantic_type\": \"\",\n        \"description\": \"\"\n      }\n    },\n    {\n      \"column\": \"l3\",\n      \"properties\": {\n        \"dtype\": \"category\",\n        \"num_unique_values\": 219,\n        \"samples\": [\n          \"CollegeCoach\",\n          \"RaceHorse\",\n          \"HorseTrainer\"\n        ],\n        \"semantic_type\": \"\",\n        \"description\": \"\"\n      }\n    }\n  ]\n}"
            }
          },
          "metadata": {},
          "execution_count": 5
        }
      ]
    },
    {
      "cell_type": "code",
      "source": [
        "train_df = train_df.rename(columns={\"text\": \"text\", \"l3\": \"label\"})\n",
        "test_df = test_df.rename(columns={\"text\": \"text\", \"l3\": \"label\"})"
      ],
      "metadata": {
        "id": "McxGQOlCCHzW"
      },
      "execution_count": 6,
      "outputs": []
    },
    {
      "cell_type": "markdown",
      "source": [
        "# Classic Markov"
      ],
      "metadata": {
        "id": "Puttk8Uc5dZy"
      }
    },
    {
      "cell_type": "code",
      "source": [
        "import re\n",
        "from collections import defaultdict, Counter\n",
        "import numpy as np\n",
        "import nltk\n",
        "nltk.download('punkt_tab')\n",
        "from nltk.tokenize import word_tokenize\n",
        "\n",
        "def preprocess(text):\n",
        "    text = text.lower()\n",
        "    text = re.sub(r'[^a-z\\s]', '', text)\n",
        "    return word_tokenize(text)\n"
      ],
      "metadata": {
        "colab": {
          "base_uri": "https://localhost:8080/"
        },
        "id": "bbzP2ZCv5Zb8",
        "outputId": "b4d61635-cc2c-48e4-a358-b2b04583bc27"
      },
      "execution_count": 7,
      "outputs": [
        {
          "output_type": "stream",
          "name": "stderr",
          "text": [
            "[nltk_data] Downloading package punkt_tab to /root/nltk_data...\n",
            "[nltk_data]   Unzipping tokenizers/punkt_tab.zip.\n"
          ]
        }
      ]
    },
    {
      "cell_type": "code",
      "source": [
        "class MarkovModel:\n",
        "    def __init__(self):\n",
        "        self.transitions = defaultdict(Counter)\n",
        "        self.vocab = set()\n",
        "\n",
        "    def train(self, texts):\n",
        "        for text in texts:\n",
        "            tokens = preprocess(text)\n",
        "            tokens = [\"<START>\"] + tokens + [\"<END>\"]\n",
        "            self.vocab.update(tokens)\n",
        "            for i in range(len(tokens) - 1):\n",
        "                self.transitions[tokens[i]][tokens[i + 1]] += 1\n",
        "\n",
        "        self.vocab = list(self.vocab)\n",
        "        self._calculate_probabilities()\n",
        "\n",
        "    def _calculate_probabilities(self):\n",
        "        self.probabilities = {}\n",
        "        for prev_word, next_words in self.transitions.items():\n",
        "            total = sum(next_words.values())\n",
        "            self.probabilities[prev_word] = {\n",
        "                word: count / total for word, count in next_words.items()\n",
        "            }\n",
        "\n",
        "    def sequence_log_prob(self, text):\n",
        "        tokens = preprocess(text)\n",
        "        tokens = [\"<START>\"] + tokens + [\"<END>\"]\n",
        "        log_prob = 0.0\n",
        "        for i in range(len(tokens) - 1):\n",
        "            prev_word = tokens[i]\n",
        "            next_word = tokens[i + 1]\n",
        "            prob = self.probabilities.get(prev_word, {}).get(next_word, 1e-6)  # Laplace smoothing\n",
        "            log_prob += np.log(prob)\n",
        "        return log_prob\n"
      ],
      "metadata": {
        "id": "JUhTX-pH54Ou"
      },
      "execution_count": 8,
      "outputs": []
    },
    {
      "cell_type": "code",
      "source": [
        "models = {}\n",
        "classes = train_df['label'].unique()\n",
        "\n",
        "for cls in classes:\n",
        "    model = MarkovModel()\n",
        "    model.train(train_df[train_df['label'] == cls]['text'])\n",
        "    models[cls] = model\n"
      ],
      "metadata": {
        "id": "Go51EBq156ZI"
      },
      "execution_count": 9,
      "outputs": []
    },
    {
      "cell_type": "code",
      "source": [
        "def classify(text, models):\n",
        "    class_probs = {}\n",
        "    for cls, model in models.items():\n",
        "        class_probs[cls] = model.sequence_log_prob(text)\n",
        "    return max(class_probs, key=class_probs.get)\n"
      ],
      "metadata": {
        "id": "Slb0N9hM573Z"
      },
      "execution_count": 10,
      "outputs": []
    },
    {
      "cell_type": "code",
      "source": [
        "predictions = [classify(text, models) for text in test_df['text']]\n",
        "accuracy = np.mean(np.array(predictions) == test_df['label'].values)\n",
        "print(f\"Acurácia (Markov Clássico): {accuracy:.4f}\")"
      ],
      "metadata": {
        "colab": {
          "base_uri": "https://localhost:8080/"
        },
        "id": "VbX0jRUh59FP",
        "outputId": "76783670-343b-4807-bb26-ff25a0e22bf0"
      },
      "execution_count": 11,
      "outputs": [
        {
          "output_type": "stream",
          "name": "stdout",
          "text": [
            "Acurácia (Markov Clássico): 0.8760\n"
          ]
        }
      ]
    }
  ]
}