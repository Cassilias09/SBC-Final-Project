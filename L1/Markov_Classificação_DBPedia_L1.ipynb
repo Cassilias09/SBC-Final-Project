{
  "cells": [
    {
      "cell_type": "markdown",
      "metadata": {
        "id": "iwgSgldWG2Mo"
      },
      "source": [
        "---\n",
        "\n",
        "EQUIPE:\n",
        "\n",
        "* Ana Carolina Aguiar - Mat.: 20210024326\n",
        "* Cassiano Sabino - Mat.: 20210025806\n",
        "* Geovana Lima - Mat.: 20210024729\n",
        "\n",
        "---"
      ]
    },
    {
      "cell_type": "markdown",
      "metadata": {
        "id": "GeC9qVN9-qL8"
      },
      "source": [
        "## Load the Data\n"
      ]
    },
    {
      "cell_type": "markdown",
      "metadata": {
        "id": "3S877YfQnRTJ"
      },
      "source": [
        "---\n",
        "\n",
        "EQUIPE:\n",
        "\n",
        "⇒ Primeiro, fizemos o download dos dados da DBPedia e carregamos em um dataframe Pandas. Removemos as colunas l2 e l3, pois estamos interessados apenas na coluna l1, para usar o rótulo de primeiro nível (que contém 9 classes).\n",
        "\n",
        "---"
      ]
    },
    {
      "cell_type": "code",
      "execution_count": 1,
      "metadata": {
        "colab": {
          "base_uri": "https://localhost:8080/"
        },
        "id": "YRhGy6He-qL9",
        "outputId": "1f678ff9-9b5d-407b-a254-52a330f59429"
      },
      "outputs": [
        {
          "name": "stdout",
          "output_type": "stream",
          "text": [
            "  % Total    % Received % Xferd  Average Speed   Time    Time     Time  Current\n",
            "                                 Dload  Upload   Total   Spent    Left  Speed\n",
            "  0     0    0     0    0     0      0      0 --:--:-- --:--:-- --:--:--     0\n",
            "100  165M  100  165M    0     0  26.2M      0  0:00:06  0:00:06 --:--:-- 33.4M\n"
          ]
        }
      ],
      "source": [
        "!curl -L -o dbpedia-classes.zip https://www.kaggle.com/api/v1/datasets/download/danofer/dbpedia-classes"
      ]
    },
    {
      "cell_type": "code",
      "execution_count": 2,
      "metadata": {
        "colab": {
          "base_uri": "https://localhost:8080/"
        },
        "id": "hD6W-LKt_b4z",
        "outputId": "1cdc02e1-c544-46a3-abe0-1a45b8452d2d"
      },
      "outputs": [
        {
          "name": "stdout",
          "output_type": "stream",
          "text": [
            "Archive:  dbpedia-classes.zip\n",
            "  inflating: DBPEDIA_test.csv        \n",
            "  inflating: DBPEDIA_train.csv       \n",
            "  inflating: DBPEDIA_val.csv         \n",
            "  inflating: DBP_wiki_data.csv       \n"
          ]
        }
      ],
      "source": [
        "!unzip dbpedia-classes.zip"
      ]
    },
    {
      "cell_type": "code",
      "execution_count": 3,
      "metadata": {
        "id": "8D26lyhl8Xfn"
      },
      "outputs": [],
      "source": [
        "import pandas as pd"
      ]
    },
    {
      "cell_type": "code",
      "execution_count": 4,
      "metadata": {
        "id": "BLs0E6GG_93G"
      },
      "outputs": [],
      "source": [
        "train_df = pd.read_csv(\"/content/DBPEDIA_train.csv\")\n",
        "test_df = pd.read_csv(\"/content/DBPEDIA_test.csv\")"
      ]
    },
    {
      "cell_type": "code",
      "execution_count": 5,
      "metadata": {
        "colab": {
          "base_uri": "https://localhost:8080/",
          "height": 424
        },
        "id": "Aqy6bdUcAOyg",
        "outputId": "b21df627-faf3-4d2e-edb7-38ed1f3d76d3"
      },
      "outputs": [
        {
          "data": {
            "application/vnd.google.colaboratory.intrinsic+json": {
              "summary": "{\n  \"name\": \"test_df\",\n  \"rows\": 60794,\n  \"fields\": [\n    {\n      \"column\": \"text\",\n      \"properties\": {\n        \"dtype\": \"string\",\n        \"num_unique_values\": 60794,\n        \"samples\": [\n          \"Screen Singapore was held in August 2005, on the occasion of the 40th anniversary of the independence of Singapore, to celebrate the heritage of Singaporean cinema from pre-independence days to the present. Presenting a total of 31 feature films (17 vintage ones, from 1955 to 1978, and 14 contemporary ones from 1995 to 2005), plus 15 short films (from 1996 to 2004) over an entire month, it was and has remained the largest showcase of Singaporean cinema.\",\n          \"Gediz \\u00dcniversitesi Gen\\u00e7lik ve Spor Kul\\u00fcb\\u00fc, known as Orkide Gediz \\u00dcniversitesi for sponsorship reasons, is a Turkish professional basketball club based in \\u0130zmir which plays Turkish Basketball League (TBL). The team was founded by Gediz University in 2010. Their home arena is Gediz \\u00dcniversitesi Sports Hall with a capacity of 250 seats. The team sponsored by Orkide which is an liquid oil company in Turkey.\",\n          \"Cumberland Head Light is a lighthouse on Lake Champlain's Cumberland Bay in New York state. The lighthouse was established in 1838 and the tower was first lit in 1868. The lighthouse was deactivated in 1934. The foundation of the lighthouse is concrete and limestone and the lighthouse itself is made out of limestone. The shape of the tower is conical. The original lens was a fourth order Fresnel lens installed in 1856.\"\n        ],\n        \"semantic_type\": \"\",\n        \"description\": \"\"\n      }\n    },\n    {\n      \"column\": \"l1\",\n      \"properties\": {\n        \"dtype\": \"category\",\n        \"num_unique_values\": 9,\n        \"samples\": [\n          \"TopicalConcept\",\n          \"Place\",\n          \"Species\"\n        ],\n        \"semantic_type\": \"\",\n        \"description\": \"\"\n      }\n    }\n  ]\n}",
              "type": "dataframe"
            },
            "text/html": [
              "\n",
              "  <div id=\"df-33749c2d-d8c9-487c-aa74-dd93520ebdaa\" class=\"colab-df-container\">\n",
              "    <div>\n",
              "<style scoped>\n",
              "    .dataframe tbody tr th:only-of-type {\n",
              "        vertical-align: middle;\n",
              "    }\n",
              "\n",
              "    .dataframe tbody tr th {\n",
              "        vertical-align: top;\n",
              "    }\n",
              "\n",
              "    .dataframe thead th {\n",
              "        text-align: right;\n",
              "    }\n",
              "</style>\n",
              "<table border=\"1\" class=\"dataframe\">\n",
              "  <thead>\n",
              "    <tr style=\"text-align: right;\">\n",
              "      <th></th>\n",
              "      <th>text</th>\n",
              "      <th>l1</th>\n",
              "    </tr>\n",
              "  </thead>\n",
              "  <tbody>\n",
              "    <tr>\n",
              "      <th>0</th>\n",
              "      <td>Liu Chao-shiuan (Chinese: 劉兆玄; pinyin: Liú Zhà...</td>\n",
              "      <td>Agent</td>\n",
              "    </tr>\n",
              "    <tr>\n",
              "      <th>1</th>\n",
              "      <td>Michelle Maylene (born January 20, 1987) is an...</td>\n",
              "      <td>Agent</td>\n",
              "    </tr>\n",
              "    <tr>\n",
              "      <th>2</th>\n",
              "      <td>Hirfanlı Dam is a dam in Turkey. The developme...</td>\n",
              "      <td>Place</td>\n",
              "    </tr>\n",
              "    <tr>\n",
              "      <th>3</th>\n",
              "      <td>Grote Prijs Stad Zottegem is a single-day road...</td>\n",
              "      <td>Event</td>\n",
              "    </tr>\n",
              "    <tr>\n",
              "      <th>4</th>\n",
              "      <td>Johannes Petrus \\\"Hans\\\" Nijman (September 23,...</td>\n",
              "      <td>Agent</td>\n",
              "    </tr>\n",
              "    <tr>\n",
              "      <th>...</th>\n",
              "      <td>...</td>\n",
              "      <td>...</td>\n",
              "    </tr>\n",
              "    <tr>\n",
              "      <th>60789</th>\n",
              "      <td>Darwin Smith was CEO of Kimberly-Clark from 19...</td>\n",
              "      <td>Agent</td>\n",
              "    </tr>\n",
              "    <tr>\n",
              "      <th>60790</th>\n",
              "      <td>The HKRU Premiership is the main domestic comp...</td>\n",
              "      <td>Agent</td>\n",
              "    </tr>\n",
              "    <tr>\n",
              "      <th>60791</th>\n",
              "      <td>Leo Harvey Diegel (April 20, 1899 – May 5, 195...</td>\n",
              "      <td>Agent</td>\n",
              "    </tr>\n",
              "    <tr>\n",
              "      <th>60792</th>\n",
              "      <td>Clement Reginald \\\"Clem\\\" Splatt (17 September...</td>\n",
              "      <td>Agent</td>\n",
              "    </tr>\n",
              "    <tr>\n",
              "      <th>60793</th>\n",
              "      <td>Gyllebo Castle (Swedish: Gyllebo slott) is a c...</td>\n",
              "      <td>Place</td>\n",
              "    </tr>\n",
              "  </tbody>\n",
              "</table>\n",
              "<p>60794 rows × 2 columns</p>\n",
              "</div>\n",
              "    <div class=\"colab-df-buttons\">\n",
              "\n",
              "  <div class=\"colab-df-container\">\n",
              "    <button class=\"colab-df-convert\" onclick=\"convertToInteractive('df-33749c2d-d8c9-487c-aa74-dd93520ebdaa')\"\n",
              "            title=\"Convert this dataframe to an interactive table.\"\n",
              "            style=\"display:none;\">\n",
              "\n",
              "  <svg xmlns=\"http://www.w3.org/2000/svg\" height=\"24px\" viewBox=\"0 -960 960 960\">\n",
              "    <path d=\"M120-120v-720h720v720H120Zm60-500h600v-160H180v160Zm220 220h160v-160H400v160Zm0 220h160v-160H400v160ZM180-400h160v-160H180v160Zm440 0h160v-160H620v160ZM180-180h160v-160H180v160Zm440 0h160v-160H620v160Z\"/>\n",
              "  </svg>\n",
              "    </button>\n",
              "\n",
              "  <style>\n",
              "    .colab-df-container {\n",
              "      display:flex;\n",
              "      gap: 12px;\n",
              "    }\n",
              "\n",
              "    .colab-df-convert {\n",
              "      background-color: #E8F0FE;\n",
              "      border: none;\n",
              "      border-radius: 50%;\n",
              "      cursor: pointer;\n",
              "      display: none;\n",
              "      fill: #1967D2;\n",
              "      height: 32px;\n",
              "      padding: 0 0 0 0;\n",
              "      width: 32px;\n",
              "    }\n",
              "\n",
              "    .colab-df-convert:hover {\n",
              "      background-color: #E2EBFA;\n",
              "      box-shadow: 0px 1px 2px rgba(60, 64, 67, 0.3), 0px 1px 3px 1px rgba(60, 64, 67, 0.15);\n",
              "      fill: #174EA6;\n",
              "    }\n",
              "\n",
              "    .colab-df-buttons div {\n",
              "      margin-bottom: 4px;\n",
              "    }\n",
              "\n",
              "    [theme=dark] .colab-df-convert {\n",
              "      background-color: #3B4455;\n",
              "      fill: #D2E3FC;\n",
              "    }\n",
              "\n",
              "    [theme=dark] .colab-df-convert:hover {\n",
              "      background-color: #434B5C;\n",
              "      box-shadow: 0px 1px 3px 1px rgba(0, 0, 0, 0.15);\n",
              "      filter: drop-shadow(0px 1px 2px rgba(0, 0, 0, 0.3));\n",
              "      fill: #FFFFFF;\n",
              "    }\n",
              "  </style>\n",
              "\n",
              "    <script>\n",
              "      const buttonEl =\n",
              "        document.querySelector('#df-33749c2d-d8c9-487c-aa74-dd93520ebdaa button.colab-df-convert');\n",
              "      buttonEl.style.display =\n",
              "        google.colab.kernel.accessAllowed ? 'block' : 'none';\n",
              "\n",
              "      async function convertToInteractive(key) {\n",
              "        const element = document.querySelector('#df-33749c2d-d8c9-487c-aa74-dd93520ebdaa');\n",
              "        const dataTable =\n",
              "          await google.colab.kernel.invokeFunction('convertToInteractive',\n",
              "                                                    [key], {});\n",
              "        if (!dataTable) return;\n",
              "\n",
              "        const docLinkHtml = 'Like what you see? Visit the ' +\n",
              "          '<a target=\"_blank\" href=https://colab.research.google.com/notebooks/data_table.ipynb>data table notebook</a>'\n",
              "          + ' to learn more about interactive tables.';\n",
              "        element.innerHTML = '';\n",
              "        dataTable['output_type'] = 'display_data';\n",
              "        await google.colab.output.renderOutput(dataTable, element);\n",
              "        const docLink = document.createElement('div');\n",
              "        docLink.innerHTML = docLinkHtml;\n",
              "        element.appendChild(docLink);\n",
              "      }\n",
              "    </script>\n",
              "  </div>\n",
              "\n",
              "\n",
              "<div id=\"df-8e33fed1-f282-41b8-8787-9c09640bb1b5\">\n",
              "  <button class=\"colab-df-quickchart\" onclick=\"quickchart('df-8e33fed1-f282-41b8-8787-9c09640bb1b5')\"\n",
              "            title=\"Suggest charts\"\n",
              "            style=\"display:none;\">\n",
              "\n",
              "<svg xmlns=\"http://www.w3.org/2000/svg\" height=\"24px\"viewBox=\"0 0 24 24\"\n",
              "     width=\"24px\">\n",
              "    <g>\n",
              "        <path d=\"M19 3H5c-1.1 0-2 .9-2 2v14c0 1.1.9 2 2 2h14c1.1 0 2-.9 2-2V5c0-1.1-.9-2-2-2zM9 17H7v-7h2v7zm4 0h-2V7h2v10zm4 0h-2v-4h2v4z\"/>\n",
              "    </g>\n",
              "</svg>\n",
              "  </button>\n",
              "\n",
              "<style>\n",
              "  .colab-df-quickchart {\n",
              "      --bg-color: #E8F0FE;\n",
              "      --fill-color: #1967D2;\n",
              "      --hover-bg-color: #E2EBFA;\n",
              "      --hover-fill-color: #174EA6;\n",
              "      --disabled-fill-color: #AAA;\n",
              "      --disabled-bg-color: #DDD;\n",
              "  }\n",
              "\n",
              "  [theme=dark] .colab-df-quickchart {\n",
              "      --bg-color: #3B4455;\n",
              "      --fill-color: #D2E3FC;\n",
              "      --hover-bg-color: #434B5C;\n",
              "      --hover-fill-color: #FFFFFF;\n",
              "      --disabled-bg-color: #3B4455;\n",
              "      --disabled-fill-color: #666;\n",
              "  }\n",
              "\n",
              "  .colab-df-quickchart {\n",
              "    background-color: var(--bg-color);\n",
              "    border: none;\n",
              "    border-radius: 50%;\n",
              "    cursor: pointer;\n",
              "    display: none;\n",
              "    fill: var(--fill-color);\n",
              "    height: 32px;\n",
              "    padding: 0;\n",
              "    width: 32px;\n",
              "  }\n",
              "\n",
              "  .colab-df-quickchart:hover {\n",
              "    background-color: var(--hover-bg-color);\n",
              "    box-shadow: 0 1px 2px rgba(60, 64, 67, 0.3), 0 1px 3px 1px rgba(60, 64, 67, 0.15);\n",
              "    fill: var(--button-hover-fill-color);\n",
              "  }\n",
              "\n",
              "  .colab-df-quickchart-complete:disabled,\n",
              "  .colab-df-quickchart-complete:disabled:hover {\n",
              "    background-color: var(--disabled-bg-color);\n",
              "    fill: var(--disabled-fill-color);\n",
              "    box-shadow: none;\n",
              "  }\n",
              "\n",
              "  .colab-df-spinner {\n",
              "    border: 2px solid var(--fill-color);\n",
              "    border-color: transparent;\n",
              "    border-bottom-color: var(--fill-color);\n",
              "    animation:\n",
              "      spin 1s steps(1) infinite;\n",
              "  }\n",
              "\n",
              "  @keyframes spin {\n",
              "    0% {\n",
              "      border-color: transparent;\n",
              "      border-bottom-color: var(--fill-color);\n",
              "      border-left-color: var(--fill-color);\n",
              "    }\n",
              "    20% {\n",
              "      border-color: transparent;\n",
              "      border-left-color: var(--fill-color);\n",
              "      border-top-color: var(--fill-color);\n",
              "    }\n",
              "    30% {\n",
              "      border-color: transparent;\n",
              "      border-left-color: var(--fill-color);\n",
              "      border-top-color: var(--fill-color);\n",
              "      border-right-color: var(--fill-color);\n",
              "    }\n",
              "    40% {\n",
              "      border-color: transparent;\n",
              "      border-right-color: var(--fill-color);\n",
              "      border-top-color: var(--fill-color);\n",
              "    }\n",
              "    60% {\n",
              "      border-color: transparent;\n",
              "      border-right-color: var(--fill-color);\n",
              "    }\n",
              "    80% {\n",
              "      border-color: transparent;\n",
              "      border-right-color: var(--fill-color);\n",
              "      border-bottom-color: var(--fill-color);\n",
              "    }\n",
              "    90% {\n",
              "      border-color: transparent;\n",
              "      border-bottom-color: var(--fill-color);\n",
              "    }\n",
              "  }\n",
              "</style>\n",
              "\n",
              "  <script>\n",
              "    async function quickchart(key) {\n",
              "      const quickchartButtonEl =\n",
              "        document.querySelector('#' + key + ' button');\n",
              "      quickchartButtonEl.disabled = true;  // To prevent multiple clicks.\n",
              "      quickchartButtonEl.classList.add('colab-df-spinner');\n",
              "      try {\n",
              "        const charts = await google.colab.kernel.invokeFunction(\n",
              "            'suggestCharts', [key], {});\n",
              "      } catch (error) {\n",
              "        console.error('Error during call to suggestCharts:', error);\n",
              "      }\n",
              "      quickchartButtonEl.classList.remove('colab-df-spinner');\n",
              "      quickchartButtonEl.classList.add('colab-df-quickchart-complete');\n",
              "    }\n",
              "    (() => {\n",
              "      let quickchartButtonEl =\n",
              "        document.querySelector('#df-8e33fed1-f282-41b8-8787-9c09640bb1b5 button');\n",
              "      quickchartButtonEl.style.display =\n",
              "        google.colab.kernel.accessAllowed ? 'block' : 'none';\n",
              "    })();\n",
              "  </script>\n",
              "</div>\n",
              "\n",
              "    </div>\n",
              "  </div>\n"
            ],
            "text/plain": [
              "                                                    text     l1\n",
              "0      Liu Chao-shiuan (Chinese: 劉兆玄; pinyin: Liú Zhà...  Agent\n",
              "1      Michelle Maylene (born January 20, 1987) is an...  Agent\n",
              "2      Hirfanlı Dam is a dam in Turkey. The developme...  Place\n",
              "3      Grote Prijs Stad Zottegem is a single-day road...  Event\n",
              "4      Johannes Petrus \\\"Hans\\\" Nijman (September 23,...  Agent\n",
              "...                                                  ...    ...\n",
              "60789  Darwin Smith was CEO of Kimberly-Clark from 19...  Agent\n",
              "60790  The HKRU Premiership is the main domestic comp...  Agent\n",
              "60791  Leo Harvey Diegel (April 20, 1899 – May 5, 195...  Agent\n",
              "60792  Clement Reginald \\\"Clem\\\" Splatt (17 September...  Agent\n",
              "60793  Gyllebo Castle (Swedish: Gyllebo slott) is a c...  Place\n",
              "\n",
              "[60794 rows x 2 columns]"
            ]
          },
          "execution_count": 5,
          "metadata": {},
          "output_type": "execute_result"
        }
      ],
      "source": [
        "train_df.drop(columns=[\"l2\", \"l3\"])\n",
        "test_df.drop(columns=[\"l2\", \"l3\"])"
      ]
    },
    {
      "cell_type": "markdown",
      "metadata": {
        "id": "zUF6wISqEiUV"
      },
      "source": [
        "---\n",
        "\n",
        "EQUIPE:\n",
        "\n",
        "⇒ Renomeamos as colunas para usarmos o padrão \"text\" e \"label\".\n",
        "\n",
        "---"
      ]
    },
    {
      "cell_type": "code",
      "execution_count": 6,
      "metadata": {
        "id": "McxGQOlCCHzW"
      },
      "outputs": [],
      "source": [
        "train_df = train_df.rename(columns={\"text\": \"text\", \"l1\": \"label\"})\n",
        "test_df = test_df.rename(columns={\"text\": \"text\", \"l1\": \"label\"})"
      ]
    },
    {
      "cell_type": "markdown",
      "metadata": {
        "id": "Puttk8Uc5dZy"
      },
      "source": [
        "# Classic Markov"
      ]
    },
    {
      "cell_type": "markdown",
      "metadata": {
        "id": "d4X9N6RPj-CX"
      },
      "source": [
        "---\n",
        "\n",
        "EQUIPE:\n",
        "\n",
        "⇒ Pré-processamento dos textos: Nesta etapa, importamos bibliotecas necessárias e definimos a função `preprocess`, que normaliza o texto (converte para minúsculas), remove pontuações e caracteres especiais, e realiza a tokenização em palavras usando a biblioteca NLTK.\n",
        "\n",
        "---"
      ]
    },
    {
      "cell_type": "code",
      "execution_count": 7,
      "metadata": {
        "colab": {
          "base_uri": "https://localhost:8080/"
        },
        "id": "bbzP2ZCv5Zb8",
        "outputId": "6fdfbc90-5c4d-4a77-e2e2-b4867957e540"
      },
      "outputs": [
        {
          "name": "stderr",
          "output_type": "stream",
          "text": [
            "[nltk_data] Downloading package punkt_tab to /root/nltk_data...\n",
            "[nltk_data]   Unzipping tokenizers/punkt_tab.zip.\n"
          ]
        }
      ],
      "source": [
        "import re\n",
        "from collections import defaultdict, Counter\n",
        "import numpy as np\n",
        "import nltk\n",
        "nltk.download('punkt_tab')\n",
        "from nltk.tokenize import word_tokenize\n",
        "\n",
        "def preprocess(text):\n",
        "    text = text.lower()\n",
        "    text = re.sub(r'[^a-z\\s]', '', text)\n",
        "    return word_tokenize(text)\n"
      ]
    },
    {
      "cell_type": "markdown",
      "metadata": {
        "id": "5Zk1LMPRkJd6"
      },
      "source": [
        "---\n",
        "\n",
        "EQUIPE:\n",
        "\n",
        "⇒ Implementação do Modelo de Markov para modelagem de linguagem: esta classe constrói um modelo de primeira ordem baseado em cadeias de Markov.\n",
        "- Durante o treinamento, ela coleta as transições entre palavras consecutivas nos textos (com tokens <START> e <END>).\n",
        "- Em seguida, calcula as probabilidades condicionais de transição entre palavras.\n",
        "- O método `sequence_log_prob` calcula a verossimilhança (log da probabilidade) de uma nova sequência de texto, considerando as transições observadas durante o treinamento e aplicando suavização de Laplace para lidar com palavras não vistas.\n",
        "\n",
        "\n",
        "---"
      ]
    },
    {
      "cell_type": "code",
      "execution_count": 8,
      "metadata": {
        "id": "JUhTX-pH54Ou"
      },
      "outputs": [],
      "source": [
        "class MarkovModel:\n",
        "    def __init__(self):\n",
        "        self.transitions = defaultdict(Counter)\n",
        "        self.vocab = set()\n",
        "\n",
        "    def train(self, texts):\n",
        "        for text in texts:\n",
        "            tokens = preprocess(text)\n",
        "            tokens = [\"<START>\"] + tokens + [\"<END>\"]\n",
        "            self.vocab.update(tokens)\n",
        "            for i in range(len(tokens) - 1):\n",
        "                self.transitions[tokens[i]][tokens[i + 1]] += 1\n",
        "\n",
        "        self.vocab = list(self.vocab)\n",
        "        self._calculate_probabilities()\n",
        "\n",
        "    def _calculate_probabilities(self):\n",
        "        self.probabilities = {}\n",
        "        for prev_word, next_words in self.transitions.items():\n",
        "            total = sum(next_words.values())\n",
        "            self.probabilities[prev_word] = {\n",
        "                word: count / total for word, count in next_words.items()\n",
        "            }\n",
        "\n",
        "    def sequence_log_prob(self, text):\n",
        "        tokens = preprocess(text)\n",
        "        tokens = [\"<START>\"] + tokens + [\"<END>\"]\n",
        "        log_prob = 0.0\n",
        "        for i in range(len(tokens) - 1):\n",
        "            prev_word = tokens[i]\n",
        "            next_word = tokens[i + 1]\n",
        "            prob = self.probabilities.get(prev_word, {}).get(next_word, 1e-6)  # Laplace smoothing\n",
        "            log_prob += np.log(prob)\n",
        "        return log_prob\n"
      ]
    },
    {
      "cell_type": "markdown",
      "metadata": {
        "id": "kIkYHFR6kogY"
      },
      "source": [
        "---\n",
        "\n",
        "EQUIPE:\n",
        "\n",
        "⇒ Treinamento de um modelo de Markov por classe:\n",
        "* Para cada rótulo de classe presente no dataset de treino, treinamos um modelo de Markov específico usando apenas os textos daquela classe.\n",
        "* O resultado é um dicionário `models`, onde cada chave é um rótulo e o valor é o modelo treinado correspondente.\n",
        "\n",
        "---"
      ]
    },
    {
      "cell_type": "code",
      "execution_count": 9,
      "metadata": {
        "id": "Go51EBq156ZI"
      },
      "outputs": [],
      "source": [
        "models = {}\n",
        "classes = train_df['label'].unique()\n",
        "\n",
        "for cls in classes:\n",
        "    model = MarkovModel()\n",
        "    model.train(train_df[train_df['label'] == cls]['text'])\n",
        "    models[cls] = model\n"
      ]
    },
    {
      "cell_type": "markdown",
      "metadata": {
        "id": "bALdHQn1k0WA"
      },
      "source": [
        "---\n",
        "\n",
        "EQUIPE:\n",
        "\n",
        "⇒ Função de classificação: dada uma entrada textual e os modelos de Markov treinados por classe, a função computa a probabilidade logarítmica do texto pertencer a cada classe e retorna a classe com maior probabilidade estimada.\n",
        "\n",
        "---"
      ]
    },
    {
      "cell_type": "code",
      "execution_count": 10,
      "metadata": {
        "id": "Slb0N9hM573Z"
      },
      "outputs": [],
      "source": [
        "def classify(text, models):\n",
        "    class_probs = {}\n",
        "    for cls, model in models.items():\n",
        "        class_probs[cls] = model.sequence_log_prob(text)\n",
        "    return max(class_probs, key=class_probs.get)\n"
      ]
    },
    {
      "cell_type": "markdown",
      "metadata": {
        "id": "Jju3aea3k_5I"
      },
      "source": [
        "---\n",
        "\n",
        "EQUIPE:\n",
        "\n",
        "⇒ Avaliação do classificador de Markov:\n",
        "- Utiliza a função `classify` para prever as classes de todos os exemplos do conjunto de teste.\n",
        "- Em seguida, calcula a acurácia comparando as predições com os rótulos reais.\n",
        "\n",
        "---"
      ]
    },
    {
      "cell_type": "code",
      "execution_count": 11,
      "metadata": {
        "colab": {
          "base_uri": "https://localhost:8080/"
        },
        "id": "VbX0jRUh59FP",
        "outputId": "e7fefa59-451e-4e24-9afc-85caf0712102"
      },
      "outputs": [
        {
          "name": "stdout",
          "output_type": "stream",
          "text": [
            "Acurácia (Markov Clássico): 0.9549\n"
          ]
        }
      ],
      "source": [
        "predictions = [classify(text, models) for text in test_df['text']]\n",
        "accuracy = np.mean(np.array(predictions) == test_df['label'].values)\n",
        "print(f\"Acurácia (Markov Clássico): {accuracy:.4f}\")"
      ]
    },
    {
      "cell_type": "markdown",
      "metadata": {
        "id": "-CyOmeTi_70Y"
      },
      "source": [
        "# Métricas de avaliação do modelo"
      ]
    },
    {
      "cell_type": "code",
      "execution_count": 14,
      "metadata": {
        "colab": {
          "base_uri": "https://localhost:8080/",
          "height": 581
        },
        "id": "wRm8X6gphj7f",
        "outputId": "69bcc1ba-bf1b-4e23-b40d-9be31285ce52"
      },
      "outputs": [
        {
          "data": {
            "text/plain": [
              "<Figure size 1000x1000 with 0 Axes>"
            ]
          },
          "metadata": {},
          "output_type": "display_data"
        },
        {
          "data": {
            "image/png": "[encoded data removed]",
            "text/plain": [
              "<Figure size 640x480 with 2 Axes>"
            ]
          },
          "metadata": {},
          "output_type": "display_data"
        }
      ],
      "source": [
        "from sklearn.metrics import confusion_matrix, ConfusionMatrixDisplay\n",
        "from matplotlib import pyplot as plt\n",
        "\n",
        "# gerar matriz de confusao\n",
        "cm = confusion_matrix(test_df['label'], predictions, labels=classes)\n",
        "disp = ConfusionMatrixDisplay(confusion_matrix=cm, display_labels=classes)\n",
        "\n",
        "# plotar\n",
        "plt.figure(figsize=(10, 10))\n",
        "disp.plot(xticks_rotation=\"vertical\", cmap=\"Oranges\", values_format='d')\n",
        "plt.title(\"Matriz de Confusão - Markov\")\n",
        "plt.show()"
      ]
    },
    {
      "cell_type": "code",
      "execution_count": 15,
      "metadata": {
        "colab": {
          "base_uri": "https://localhost:8080/"
        },
        "id": "-M2NvCdWC9vq",
        "outputId": "d1e712e2-5130-47f2-f9dc-8e1396b21ba5"
      },
      "outputs": [
        {
          "name": "stdout",
          "output_type": "stream",
          "text": [
            "                precision    recall  f1-score   support\n",
            "\n",
            "         Agent       0.94      0.98      0.96     31495\n",
            "          Work       1.00      0.74      0.85        62\n",
            "         Place       0.99      0.85      0.91      4820\n",
            "       Species       0.96      0.96      0.96     11574\n",
            "    UnitOfWork       1.00      0.99      0.99      5418\n",
            "         Event       0.99      0.92      0.95      1483\n",
            "  SportsSeason       1.00      0.35      0.52       198\n",
            "        Device       1.00      0.84      0.91       444\n",
            "TopicalConcept       0.93      0.90      0.92      5300\n",
            "\n",
            "      accuracy                           0.95     60794\n",
            "     macro avg       0.98      0.84      0.89     60794\n",
            "  weighted avg       0.96      0.95      0.95     60794\n",
            "\n"
          ]
        }
      ],
      "source": [
        "from sklearn.metrics import classification_report\n",
        "\n",
        "print(classification_report(test_df['label'], predictions, target_names=classes))"
      ]
    },
    {
      "cell_type": "markdown",
      "metadata": {
        "id": "UQQjWGDIDaKr"
      },
      "source": [
        "---\n",
        "\n",
        "EQUIPE:\n",
        "\n",
        "⇒ O modelo baseado em Markov teve bom desempenho geral, com:\n",
        "- Acurácia global de 95.5%\n",
        "- F1-score médio ponderado de 95%\n",
        "\n",
        "⇒ Destaques positivos:\n",
        "- Classes como \"Agent\", \"Species\" e \"UnitOfWork\" tiveram F1-scores acima de 95%, mostrando que o modelo consegue capturar padrões frequentes de forma eficaz.\n",
        "- No entanto, o modelo Markov teve desempenho consideravelmente inferior em:\n",
        "  - \"SportsSeason\": F1-score de apenas 52% (recall de 35%)\n",
        "  - \"Work\": recall de 74%, sugerindo dificuldade de identificação completa da classe\n",
        "  - \"Device\": F1-score de 91% (recall de 84%)\n",
        "\n",
        "⇒ Isso sugere que o modelo tem mais dificuldade em capturar nuances semânticas, especialmente em classes com pouca frequência ou que dependem de contexto mais profundo — limitações naturais de modelos estatísticos mais simples como Markov.\n",
        "\n",
        "---"
      ]
    },
    {
      "cell_type": "markdown",
      "metadata": {
        "id": "77D40R0Kl1nY"
      },
      "source": [
        "# Comparação de desempenho: BERT vs. Modelo de Markov"
      ]
    },
    {
      "cell_type": "markdown",
      "metadata": {
        "id": "m6-fB2OmlxS4"
      },
      "source": [
        "---\n",
        "\n",
        "EQUIPE:\n",
        "\n",
        "⇒ O classificador baseado em BERT com MLM apresentou um desempenho superior ao modelo de Markov, alcançando uma acurácia próxima de 99.7% contra aproximadamente 95.5% do modelo probabilístico clássico.\n",
        "\n",
        "⇒ Essa diferença se deve principalmente à capacidade do BERT de capturar representações contextuais ricas e semânticas por meio de pré-treinamento em larga escala, além de utilizar embeddings de subpalavras, o que o torna robusto a variações linguísticas.\n",
        "\n",
        "⇒ Já o modelo de Markov considera apenas a probabilidade de transições entre palavras consecutivas, o que limita sua capacidade de entender o significado geral do texto. Ele não possui mecanismos para lidar com ambiguidade, sinônimos ou relações de longo alcance entre palavras, o que impacta diretamente seu desempenho em tarefas de classificação de texto mais complexas.\n",
        "\n",
        "---"
      ]
    }
  ],
  "metadata": {
    "colab": {
      "provenance": []
    },
    "kernelspec": {
      "display_name": "Python 3",
      "name": "python3"
    },
    "language_info": {
      "name": "python"
    }
  },
  "nbformat": 4,
  "nbformat_minor": 0
}
